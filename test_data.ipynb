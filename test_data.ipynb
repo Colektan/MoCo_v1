{
 "cells": [
  {
   "cell_type": "code",
   "execution_count": 2,
   "metadata": {},
   "outputs": [
    {
     "name": "stderr",
     "output_type": "stream",
     "text": [
      "/sdc1/caiyunuo/anaconda3/envs/torch/lib/python3.8/site-packages/tqdm/auto.py:21: TqdmWarning: IProgress not found. Please update jupyter and ipywidgets. See https://ipywidgets.readthedocs.io/en/stable/user_install.html\n",
      "  from .autonotebook import tqdm as notebook_tqdm\n"
     ]
    }
   ],
   "source": [
    "import torch\n",
    "from torch.utils.data import DataLoader\n",
    "from torchvision.datasets import CIFAR10"
   ]
  },
  {
   "cell_type": "code",
   "execution_count": 3,
   "metadata": {},
   "outputs": [],
   "source": [
    "from glob import glob\n",
    "file_list = glob(\"./dataset/train/*/*.JPEG\")"
   ]
  },
  {
   "cell_type": "code",
   "execution_count": 4,
   "metadata": {},
   "outputs": [
    {
     "data": {
      "text/plain": [
       "1281167"
      ]
     },
     "execution_count": 4,
     "metadata": {},
     "output_type": "execute_result"
    }
   ],
   "source": [
    "len(file_list)"
   ]
  },
  {
   "cell_type": "code",
   "execution_count": 8,
   "metadata": {},
   "outputs": [],
   "source": [
    "from PIL import Image\n",
    "import numpy as np\n",
    "\n",
    "idx = 0\n",
    "image_path = file_list[idx]\n",
    "\n",
    "image = Image.open(image_path)\n",
    "img = np.array(image)"
   ]
  },
  {
   "cell_type": "code",
   "execution_count": null,
   "metadata": {},
   "outputs": [],
   "source": [
    "from tqdm import tqdm\n",
    "from PIL import Image\n",
    "import numpy as np\n",
    "\n",
    "max_shape0 = 0\n",
    "max_shape1 = 0\n",
    "for idx in tqdm(range(len(file_list))):    \n",
    "    image_path = file_list[idx]\n",
    "    image = Image.open(image_path)\n",
    "    img = np.array(image)\n",
    "    if img.shape[-1] != 3:\n",
    "        print(file_list[idx])"
   ]
  },
  {
   "cell_type": "code",
   "execution_count": 13,
   "metadata": {},
   "outputs": [
    {
     "name": "stdout",
     "output_type": "stream",
     "text": [
      "6530\n",
      "9331\n"
     ]
    }
   ],
   "source": [
    "print(max_shape0)\n",
    "print(max_shape1)"
   ]
  },
  {
   "cell_type": "code",
   "execution_count": 14,
   "metadata": {},
   "outputs": [],
   "source": [
    "from torchvision.models import resnet18\n",
    "\n",
    "encoder = resnet18()"
   ]
  },
  {
   "cell_type": "code",
   "execution_count": 15,
   "metadata": {},
   "outputs": [],
   "source": [
    "from torchvision import models\n",
    "\n",
    "models = models.__dict__"
   ]
  },
  {
   "cell_type": "code",
   "execution_count": 17,
   "metadata": {},
   "outputs": [
    {
     "name": "stdout",
     "output_type": "stream",
     "text": [
      "<function resnet18 at 0x7f19a7792ee0>\n"
     ]
    }
   ],
   "source": []
  },
  {
   "cell_type": "code",
   "execution_count": 11,
   "metadata": {},
   "outputs": [
    {
     "name": "stdout",
     "output_type": "stream",
     "text": [
      "tensor([[[[-0.2342, -2.0494, -2.1008,  ...,  0.3652,  0.4166,  0.6563],\n",
      "          [ 0.2282, -1.0390, -1.8782,  ...,  0.5536,  0.6049,  0.8618],\n",
      "          [ 0.6392, -0.0801, -1.6727,  ...,  0.8618,  0.8447,  0.8276],\n",
      "          ...,\n",
      "          [-1.1760, -1.3302, -1.5357,  ...,  0.4679,  0.5536,  0.7077],\n",
      "          [-0.1999, -0.4054, -0.7993,  ...,  0.3994,  0.4851,  0.4166],\n",
      "          [-0.8849, -1.0390, -1.3130,  ...,  0.2796,  0.3481,  0.1254]],\n",
      "\n",
      "         [[-0.2325, -1.8957, -2.0357,  ..., -0.6352, -0.5126, -0.2675],\n",
      "          [ 0.2227, -1.0203, -2.0182,  ..., -0.3375, -0.2325,  0.1176],\n",
      "          [ 0.5553, -0.3025, -1.8782,  ..., -0.0049,  0.0826,  0.2052],\n",
      "          ...,\n",
      "          [-1.0028, -1.1604, -1.4230,  ...,  1.0980,  1.1856,  1.3431],\n",
      "          [-0.0049, -0.2150, -0.6001,  ...,  1.0105,  1.0980,  1.0280],\n",
      "          [-0.7052, -0.8627, -1.0728,  ...,  0.8880,  0.9580,  0.7479]],\n",
      "\n",
      "         [[ 0.4614, -1.3339, -1.7696,  ...,  1.4025,  1.4374,  1.6291],\n",
      "          [ 0.9842, -0.3927, -1.4384,  ...,  1.5071,  1.5420,  1.7511],\n",
      "          [ 1.3328,  0.4614, -1.3513,  ...,  1.5942,  1.5942,  1.5594],\n",
      "          ...,\n",
      "          [-0.7064, -0.8807, -1.0376,  ...,  0.7228,  0.8099,  0.9842],\n",
      "          [ 0.2522,  0.0605, -0.2707,  ...,  0.6356,  0.7228,  0.6531],\n",
      "          [-0.4624, -0.6018, -0.7936,  ...,  0.5136,  0.5834,  0.3742]]],\n",
      "\n",
      "\n",
      "        [[[ 0.9303,  0.8961,  0.9132,  ...,  0.5022,  0.3823,  0.4508],\n",
      "          [ 0.9303,  0.9303,  0.9303,  ...,  0.3652,  0.3652,  0.4679],\n",
      "          [ 0.8961,  0.9474,  0.9474,  ...,  0.5364,  0.6221,  0.5193],\n",
      "          ...,\n",
      "          [-0.2342,  0.0912,  0.0912,  ..., -1.3302, -0.5424, -0.5424],\n",
      "          [ 0.1083, -0.1828, -0.1314,  ..., -0.6965, -0.6281, -0.5253],\n",
      "          [-0.1143,  0.0398, -0.2856,  ..., -1.2445, -1.3644, -1.1075]],\n",
      "\n",
      "         [[ 1.2206,  1.1856,  1.2031,  ...,  0.9755,  0.8704,  0.9405],\n",
      "          [ 1.2206,  1.2206,  1.2206,  ...,  0.8354,  0.8354,  0.9230],\n",
      "          [ 1.2381,  1.2381,  1.2381,  ...,  1.0280,  1.0980,  0.9755],\n",
      "          ...,\n",
      "          [-0.4951, -0.1625, -0.1625,  ..., -1.5455, -0.6877, -0.6877],\n",
      "          [-0.1275, -0.3901, -0.3725,  ..., -0.8627, -0.8102, -0.7577],\n",
      "          [-0.2675, -0.1275, -0.4776,  ..., -1.5455, -1.7206, -1.4580]],\n",
      "\n",
      "         [[ 1.4025,  1.3677,  1.3851,  ...,  1.0888,  1.0017,  1.0539],\n",
      "          [ 1.4200,  1.4200,  1.4200,  ...,  0.9494,  0.9494,  1.0539],\n",
      "          [ 1.4374,  1.4200,  1.4374,  ...,  1.1411,  1.2282,  1.1062],\n",
      "          ...,\n",
      "          [-0.1661,  0.1651,  0.1651,  ..., -1.2816, -0.4624, -0.4624],\n",
      "          [ 0.1476, -0.1138, -0.0615,  ..., -0.6193, -0.5495, -0.4450],\n",
      "          [-0.0615,  0.0953, -0.2532,  ..., -1.2467, -1.4559, -1.2293]]],\n",
      "\n",
      "\n",
      "        [[[ 1.2043,  1.2043,  1.2043,  ...,  0.8789,  0.9303,  0.8789],\n",
      "          [ 1.1529,  1.1529,  1.1529,  ...,  0.8961,  0.8961,  0.9303],\n",
      "          [ 1.2043,  1.1700,  1.2043,  ...,  0.9474,  0.8618,  0.7933],\n",
      "          ...,\n",
      "          [-1.2617, -1.2788, -1.2617,  ..., -0.6623, -0.8678, -0.4911],\n",
      "          [-1.2788, -1.2445, -1.2617,  ..., -0.1657, -0.4568, -0.2171],\n",
      "          [-1.2788, -1.2445, -1.2617,  ...,  0.9646,  0.6734,  0.5878]],\n",
      "\n",
      "         [[ 1.6758,  1.6758,  1.6758,  ...,  1.2556,  1.3081,  1.2556],\n",
      "          [ 1.6408,  1.6408,  1.6408,  ...,  1.3081,  1.3081,  1.3256],\n",
      "          [ 1.6758,  1.6583,  1.6583,  ...,  1.3606,  1.2556,  1.1856],\n",
      "          ...,\n",
      "          [-1.0903, -1.1078, -1.0903,  ..., -0.7577, -0.9678, -0.6527],\n",
      "          [-1.1078, -1.0728, -1.1078,  ..., -0.0574, -0.4601, -0.3375],\n",
      "          [-1.1078, -1.0728, -1.1078,  ...,  1.1856,  0.7654,  0.5553]],\n",
      "\n",
      "         [[ 1.3328,  1.3328,  1.3328,  ...,  1.1759,  1.2282,  1.1759],\n",
      "          [ 1.2980,  1.2980,  1.2980,  ...,  1.2457,  1.2457,  1.2980],\n",
      "          [ 1.3328,  1.3154,  1.3154,  ...,  1.3154,  1.1934,  1.1585],\n",
      "          ...,\n",
      "          [-0.9156, -0.9330, -0.9156,  ...,  0.0256, -0.0964,  0.3045],\n",
      "          [-0.9504, -0.9156, -0.9156,  ...,  0.4091,  0.1825,  0.4962],\n",
      "          [-0.9330, -0.9156, -0.9156,  ...,  1.4722,  1.2457,  1.1934]]],\n",
      "\n",
      "\n",
      "        ...,\n",
      "\n",
      "\n",
      "        [[[-0.1314, -0.1314, -0.1314,  ..., -0.2513, -0.2513, -0.2513],\n",
      "          [-0.1657, -0.1657, -0.1657,  ..., -0.2513, -0.2342, -0.2513],\n",
      "          [-0.1657, -0.1657, -0.1657,  ..., -0.2171, -0.2342, -0.2342],\n",
      "          ...,\n",
      "          [-0.2342, -0.2513, -0.2171,  ..., -0.3027, -0.3027, -0.2856],\n",
      "          [-0.1657, -0.1657, -0.1828,  ..., -0.3027, -0.3027, -0.3027],\n",
      "          [-0.0801, -0.1143, -0.1143,  ..., -0.3027, -0.3027, -0.3027]],\n",
      "\n",
      "         [[-0.3025, -0.3025, -0.3025,  ..., -0.5301, -0.5301, -0.5301],\n",
      "          [-0.3200, -0.3200, -0.3200,  ..., -0.5301, -0.5126, -0.5301],\n",
      "          [-0.3550, -0.3550, -0.3550,  ..., -0.5301, -0.5126, -0.5301],\n",
      "          ...,\n",
      "          [-0.0049, -0.0049,  0.0301,  ..., -0.1275, -0.1275, -0.0749],\n",
      "          [ 0.0476,  0.0476,  0.0476,  ..., -0.1275, -0.0924, -0.0924],\n",
      "          [ 0.0826,  0.0826,  0.0826,  ..., -0.0924, -0.0924, -0.0924]],\n",
      "\n",
      "         [[ 0.3742,  0.3742,  0.3742,  ...,  0.3219,  0.3045,  0.2871],\n",
      "          [ 0.3568,  0.3568,  0.3742,  ...,  0.3219,  0.3219,  0.2871],\n",
      "          [ 0.3393,  0.3393,  0.3568,  ...,  0.3219,  0.3219,  0.3045],\n",
      "          ...,\n",
      "          [ 0.0779,  0.0779,  0.0953,  ...,  0.0605,  0.0779,  0.1128],\n",
      "          [ 0.1651,  0.1651,  0.1651,  ...,  0.0779,  0.0953,  0.0953],\n",
      "          [ 0.2348,  0.2348,  0.2348,  ...,  0.0779,  0.0953,  0.0953]]],\n",
      "\n",
      "\n",
      "        [[[ 1.1187,  1.1700,  1.1700,  ...,  0.0398,  0.0056, -0.0287],\n",
      "          [ 1.0844,  1.1015,  1.0159,  ..., -0.1486, -0.1314, -0.1828],\n",
      "          [ 0.8961,  0.9646,  0.9646,  ..., -0.3027, -0.2856, -0.2342],\n",
      "          ...,\n",
      "          [ 1.4269,  1.3413,  1.1187,  ..., -0.8507, -0.7822, -0.7993],\n",
      "          [ 1.3413,  1.2385,  1.2043,  ..., -0.7993, -0.7479, -0.9877],\n",
      "          [ 2.1119,  1.6495,  1.4440,  ..., -0.7479, -0.8678, -0.8335]],\n",
      "\n",
      "         [[ 2.3761,  2.3585,  2.3410,  ...,  1.6758,  1.6758,  1.6758],\n",
      "          [ 2.3235,  2.2710,  2.2535,  ...,  1.5532,  1.5707,  1.5882],\n",
      "          [ 2.2885,  2.3235,  2.3410,  ...,  1.5532,  1.6057,  1.5707],\n",
      "          ...,\n",
      "          [ 1.5182,  1.3782,  1.2206,  ..., -0.7752, -0.7227, -0.7227],\n",
      "          [ 1.4832,  1.3431,  1.2556,  ..., -0.7402, -0.6702, -0.8452],\n",
      "          [ 2.3761,  1.7283,  1.5007,  ..., -0.6352, -0.7752, -0.7227]],\n",
      "\n",
      "         [[ 2.3960,  2.3088,  2.2217,  ...,  1.4200,  1.3851,  1.3502],\n",
      "          [ 2.2391,  2.2217,  2.2043,  ...,  1.2282,  1.2457,  1.2805],\n",
      "          [ 2.1694,  2.2391,  2.3088,  ...,  1.1759,  1.2282,  1.2457],\n",
      "          ...,\n",
      "          [ 1.8034,  1.7337,  1.4897,  ..., -0.6018, -0.5147, -0.4624],\n",
      "          [ 1.6988,  1.5942,  1.4897,  ..., -0.4973, -0.4275, -0.6367],\n",
      "          [ 2.4483,  1.9080,  1.6640,  ..., -0.4101, -0.5495, -0.4973]]],\n",
      "\n",
      "\n",
      "        [[[ 1.1872,  1.2043,  1.2043,  ...,  1.0502,  1.0331,  1.0502],\n",
      "          [ 1.1872,  1.1872,  1.2043,  ...,  1.0844,  1.0844,  1.0844],\n",
      "          [ 1.1529,  1.1358,  1.1529,  ...,  1.1187,  1.1187,  1.0844],\n",
      "          ...,\n",
      "          [-0.5253, -0.5424, -0.5938,  ..., -1.2959, -0.9705, -0.9020],\n",
      "          [-0.5082, -0.5424, -0.6109,  ..., -1.2788, -0.9705, -0.6965],\n",
      "          [-0.5596, -0.5596, -0.6109,  ..., -1.3130, -1.1075, -0.7822]],\n",
      "\n",
      "         [[ 1.7283,  1.7458,  1.7458,  ...,  1.7808,  1.7808,  1.7633],\n",
      "          [ 1.7633,  1.7633,  1.7458,  ...,  1.7983,  1.7633,  1.7633],\n",
      "          [ 1.7458,  1.7458,  1.7458,  ...,  1.7808,  1.7808,  1.7633],\n",
      "          ...,\n",
      "          [-0.8803, -0.8803, -0.9153,  ..., -1.4755, -1.0728, -0.6877],\n",
      "          [-0.8452, -0.8452, -0.8452,  ..., -1.4580, -0.9853, -0.5301],\n",
      "          [-0.8277, -0.8277, -0.8803,  ..., -1.4755, -1.0203, -0.6176]],\n",
      "\n",
      "         [[ 1.1759,  1.2108,  1.2108,  ...,  0.8099,  0.8274,  0.8274],\n",
      "          [ 1.2282,  1.2282,  1.2108,  ...,  0.8971,  0.9145,  0.9145],\n",
      "          [ 1.2282,  1.1759,  1.2282,  ...,  0.9319,  0.9494,  0.9494],\n",
      "          ...,\n",
      "          [ 0.1302,  0.1128,  0.0953,  ..., -0.9853, -0.7238, -0.6193],\n",
      "          [ 0.1476,  0.1476,  0.0953,  ..., -0.9678, -0.7238, -0.4798],\n",
      "          [ 0.1302,  0.1302,  0.0779,  ..., -1.0724, -0.8807, -0.5495]]]])\n",
      "torch.Size([32, 3, 224, 224])\n"
     ]
    }
   ],
   "source": [
    "from dataset import ImageNetDatasetForMoCoPretraining\n",
    "from torch.utils.data import DataLoader\n",
    "\n",
    "dataset = ImageNetDatasetForMoCoPretraining()\n",
    "dataloader = DataLoader(dataset, batch_size=32, num_workers=32)\n",
    "\n",
    "for i, data in enumerate(dataloader):\n",
    "    print(data[1])\n",
    "    print(data[0].shape)\n",
    "    break"
   ]
  },
  {
   "cell_type": "code",
   "execution_count": 16,
   "metadata": {},
   "outputs": [
    {
     "name": "stdout",
     "output_type": "stream",
     "text": [
      "0\n",
      "1\n",
      "2\n",
      "3\n",
      "4\n",
      "5\n",
      "6\n",
      "7\n",
      "8\n",
      "9\n",
      "10\n",
      "11\n",
      "12\n",
      "13\n",
      "14\n",
      "15\n",
      "16\n",
      "17\n",
      "18\n",
      "19\n",
      "20\n",
      "21\n",
      "22\n",
      "23\n",
      "24\n",
      "25\n",
      "26\n",
      "27\n",
      "28\n",
      "29\n",
      "30\n",
      "31\n",
      "32\n",
      "33\n",
      "34\n",
      "35\n",
      "36\n",
      "37\n",
      "38\n",
      "39\n",
      "40\n",
      "41\n",
      "42\n",
      "43\n",
      "44\n",
      "45\n",
      "46\n",
      "47\n",
      "48\n",
      "49\n",
      "50\n",
      "51\n",
      "52\n",
      "53\n",
      "54\n",
      "55\n",
      "56\n",
      "57\n",
      "58\n",
      "59\n",
      "60\n",
      "61\n",
      "62\n",
      "63\n",
      "64\n",
      "65\n",
      "66\n",
      "67\n",
      "68\n",
      "69\n",
      "70\n",
      "71\n",
      "72\n",
      "73\n",
      "74\n",
      "75\n",
      "76\n",
      "77\n",
      "78\n",
      "79\n",
      "80\n",
      "81\n",
      "82\n",
      "83\n",
      "84\n",
      "85\n",
      "86\n",
      "87\n",
      "88\n",
      "89\n",
      "90\n",
      "91\n",
      "92\n",
      "93\n",
      "94\n",
      "95\n",
      "96\n",
      "97\n",
      "98\n",
      "99\n",
      "99\r"
     ]
    }
   ],
   "source": [
    "for i in range(100):\n",
    "    print(i)\n",
    "    print(i, end='\\r')"
   ]
  },
  {
   "cell_type": "code",
   "execution_count": 38,
   "metadata": {},
   "outputs": [],
   "source": [
    "from torchvision.datasets import CIFAR10\n",
    "import torchvision\n",
    "\n",
    "trainset = CIFAR10(root=\"/sdc1/caiyunuo/pretraining-ResNet/dataset/CIFAR10\", train=False, transform=torchvision.transforms.ToTensor())"
   ]
  },
  {
   "cell_type": "code",
   "execution_count": 39,
   "metadata": {},
   "outputs": [],
   "source": [
    "from torch.utils.data import DataLoader\n",
    "\n",
    "train_dataloader = DataLoader(trainset, batch_size=32, shuffle=True)"
   ]
  },
  {
   "cell_type": "code",
   "execution_count": 40,
   "metadata": {},
   "outputs": [
    {
     "name": "stderr",
     "output_type": "stream",
     "text": [
      "100%|██████████| 313/313 [00:20<00:00, 15.31it/s]\n"
     ]
    }
   ],
   "source": [
    "import torch\n",
    "from tqdm import tqdm\n",
    "image_all = torch.zeros((32, 3, 32, 32))\n",
    "for i, image in enumerate(tqdm(train_dataloader)):\n",
    "    if i == 0:\n",
    "        image_all = image[0]\n",
    "    else:\n",
    "        image_all = torch.cat((image_all, image[0]), dim=0)"
   ]
  },
  {
   "cell_type": "code",
   "execution_count": 41,
   "metadata": {},
   "outputs": [
    {
     "name": "stdout",
     "output_type": "stream",
     "text": [
      "torch.Size([3, 10240000])\n",
      "tensor([0.4942, 0.4851, 0.4504])\n",
      "tensor([0.2467, 0.2429, 0.2616])\n"
     ]
    }
   ],
   "source": [
    "temp = image_all.transpose(0, 1).reshape(3, -1)\n",
    "print(temp.shape)\n",
    "print(temp.mean(axis=1))\n",
    "print(temp.std(axis=1, unbiased=False))"
   ]
  },
  {
   "cell_type": "code",
   "execution_count": 10,
   "metadata": {},
   "outputs": [],
   "source": [
    "import torch\n",
    "model_info = torch.load(\"/sdc1/caiyunuo/pretraining-ResNet/checkpoint/checkpoint-pretrained/checkpoint_0159.pth.tar\")\n",
    "weights = model_info['state_dict']\n",
    "\n",
    "weights_dict = {}\n",
    "for k, v in weights.items():\n",
    "    new_k = k.replace('module.', '') if 'module' in k else k\n",
    "    weights_dict[new_k] = v\n"
   ]
  },
  {
   "cell_type": "code",
   "execution_count": 13,
   "metadata": {},
   "outputs": [
    {
     "data": {
      "text/plain": [
       "<All keys matched successfully>"
      ]
     },
     "execution_count": 13,
     "metadata": {},
     "output_type": "execute_result"
    }
   ],
   "source": [
    "from torchvision.models import resnet18\n",
    "from models import MoCoRes18\n",
    "\n",
    "model = resnet18(num_classes=128)\n",
    "pretrained_model = MoCoRes18()\n",
    "pretrained_model.load_state_dict(weights_dict)"
   ]
  },
  {
   "cell_type": "code",
   "execution_count": 14,
   "metadata": {},
   "outputs": [
    {
     "data": {
      "text/plain": [
       "<All keys matched successfully>"
      ]
     },
     "execution_count": 14,
     "metadata": {},
     "output_type": "execute_result"
    }
   ],
   "source": [
    "model.load_state_dict(pretrained_model.encoder_q.state_dict())"
   ]
  },
  {
   "cell_type": "code",
   "execution_count": 20,
   "metadata": {},
   "outputs": [
    {
     "name": "stdout",
     "output_type": "stream",
     "text": [
      "ResNet(\n",
      "  (conv1): Conv2d(3, 64, kernel_size=(7, 7), stride=(2, 2), padding=(3, 3), bias=False)\n",
      "  (bn1): BatchNorm2d(64, eps=1e-05, momentum=0.1, affine=True, track_running_stats=True)\n",
      "  (relu): ReLU(inplace=True)\n",
      "  (maxpool): MaxPool2d(kernel_size=3, stride=2, padding=1, dilation=1, ceil_mode=False)\n",
      "  (layer1): Sequential(\n",
      "    (0): BasicBlock(\n",
      "      (conv1): Conv2d(64, 64, kernel_size=(3, 3), stride=(1, 1), padding=(1, 1), bias=False)\n",
      "      (bn1): BatchNorm2d(64, eps=1e-05, momentum=0.1, affine=True, track_running_stats=True)\n",
      "      (relu): ReLU(inplace=True)\n",
      "      (conv2): Conv2d(64, 64, kernel_size=(3, 3), stride=(1, 1), padding=(1, 1), bias=False)\n",
      "      (bn2): BatchNorm2d(64, eps=1e-05, momentum=0.1, affine=True, track_running_stats=True)\n",
      "    )\n",
      "    (1): BasicBlock(\n",
      "      (conv1): Conv2d(64, 64, kernel_size=(3, 3), stride=(1, 1), padding=(1, 1), bias=False)\n",
      "      (bn1): BatchNorm2d(64, eps=1e-05, momentum=0.1, affine=True, track_running_stats=True)\n",
      "      (relu): ReLU(inplace=True)\n",
      "      (conv2): Conv2d(64, 64, kernel_size=(3, 3), stride=(1, 1), padding=(1, 1), bias=False)\n",
      "      (bn2): BatchNorm2d(64, eps=1e-05, momentum=0.1, affine=True, track_running_stats=True)\n",
      "    )\n",
      "  )\n",
      "  (layer2): Sequential(\n",
      "    (0): BasicBlock(\n",
      "      (conv1): Conv2d(64, 128, kernel_size=(3, 3), stride=(2, 2), padding=(1, 1), bias=False)\n",
      "      (bn1): BatchNorm2d(128, eps=1e-05, momentum=0.1, affine=True, track_running_stats=True)\n",
      "      (relu): ReLU(inplace=True)\n",
      "      (conv2): Conv2d(128, 128, kernel_size=(3, 3), stride=(1, 1), padding=(1, 1), bias=False)\n",
      "      (bn2): BatchNorm2d(128, eps=1e-05, momentum=0.1, affine=True, track_running_stats=True)\n",
      "      (downsample): Sequential(\n",
      "        (0): Conv2d(64, 128, kernel_size=(1, 1), stride=(2, 2), bias=False)\n",
      "        (1): BatchNorm2d(128, eps=1e-05, momentum=0.1, affine=True, track_running_stats=True)\n",
      "      )\n",
      "    )\n",
      "    (1): BasicBlock(\n",
      "      (conv1): Conv2d(128, 128, kernel_size=(3, 3), stride=(1, 1), padding=(1, 1), bias=False)\n",
      "      (bn1): BatchNorm2d(128, eps=1e-05, momentum=0.1, affine=True, track_running_stats=True)\n",
      "      (relu): ReLU(inplace=True)\n",
      "      (conv2): Conv2d(128, 128, kernel_size=(3, 3), stride=(1, 1), padding=(1, 1), bias=False)\n",
      "      (bn2): BatchNorm2d(128, eps=1e-05, momentum=0.1, affine=True, track_running_stats=True)\n",
      "    )\n",
      "  )\n",
      "  (layer3): Sequential(\n",
      "    (0): BasicBlock(\n",
      "      (conv1): Conv2d(128, 256, kernel_size=(3, 3), stride=(2, 2), padding=(1, 1), bias=False)\n",
      "      (bn1): BatchNorm2d(256, eps=1e-05, momentum=0.1, affine=True, track_running_stats=True)\n",
      "      (relu): ReLU(inplace=True)\n",
      "      (conv2): Conv2d(256, 256, kernel_size=(3, 3), stride=(1, 1), padding=(1, 1), bias=False)\n",
      "      (bn2): BatchNorm2d(256, eps=1e-05, momentum=0.1, affine=True, track_running_stats=True)\n",
      "      (downsample): Sequential(\n",
      "        (0): Conv2d(128, 256, kernel_size=(1, 1), stride=(2, 2), bias=False)\n",
      "        (1): BatchNorm2d(256, eps=1e-05, momentum=0.1, affine=True, track_running_stats=True)\n",
      "      )\n",
      "    )\n",
      "    (1): BasicBlock(\n",
      "      (conv1): Conv2d(256, 256, kernel_size=(3, 3), stride=(1, 1), padding=(1, 1), bias=False)\n",
      "      (bn1): BatchNorm2d(256, eps=1e-05, momentum=0.1, affine=True, track_running_stats=True)\n",
      "      (relu): ReLU(inplace=True)\n",
      "      (conv2): Conv2d(256, 256, kernel_size=(3, 3), stride=(1, 1), padding=(1, 1), bias=False)\n",
      "      (bn2): BatchNorm2d(256, eps=1e-05, momentum=0.1, affine=True, track_running_stats=True)\n",
      "    )\n",
      "  )\n",
      "  (layer4): Sequential(\n",
      "    (0): BasicBlock(\n",
      "      (conv1): Conv2d(256, 512, kernel_size=(3, 3), stride=(2, 2), padding=(1, 1), bias=False)\n",
      "      (bn1): BatchNorm2d(512, eps=1e-05, momentum=0.1, affine=True, track_running_stats=True)\n",
      "      (relu): ReLU(inplace=True)\n",
      "      (conv2): Conv2d(512, 512, kernel_size=(3, 3), stride=(1, 1), padding=(1, 1), bias=False)\n",
      "      (bn2): BatchNorm2d(512, eps=1e-05, momentum=0.1, affine=True, track_running_stats=True)\n",
      "      (downsample): Sequential(\n",
      "        (0): Conv2d(256, 512, kernel_size=(1, 1), stride=(2, 2), bias=False)\n",
      "        (1): BatchNorm2d(512, eps=1e-05, momentum=0.1, affine=True, track_running_stats=True)\n",
      "      )\n",
      "    )\n",
      "    (1): BasicBlock(\n",
      "      (conv1): Conv2d(512, 512, kernel_size=(3, 3), stride=(1, 1), padding=(1, 1), bias=False)\n",
      "      (bn1): BatchNorm2d(512, eps=1e-05, momentum=0.1, affine=True, track_running_stats=True)\n",
      "      (relu): ReLU(inplace=True)\n",
      "      (conv2): Conv2d(512, 512, kernel_size=(3, 3), stride=(1, 1), padding=(1, 1), bias=False)\n",
      "      (bn2): BatchNorm2d(512, eps=1e-05, momentum=0.1, affine=True, track_running_stats=True)\n",
      "    )\n",
      "  )\n",
      "  (avgpool): AdaptiveAvgPool2d(output_size=(1, 1))\n",
      "  (fc): Linear(in_features=512, out_features=10, bias=True)\n",
      ")\n"
     ]
    }
   ],
   "source": [
    "model.fc = torch.nn.Linear(in_features=512, out_features=10)\n",
    "print(model)"
   ]
  },
  {
   "cell_type": "code",
   "execution_count": 21,
   "metadata": {},
   "outputs": [
    {
     "name": "stdout",
     "output_type": "stream",
     "text": [
      "torch.Size([6, 10])\n"
     ]
    }
   ],
   "source": [
    "test_in = torch.randn(6, 3, 32, 32)\n",
    "out = model(test_in)\n",
    "print(out.shape)"
   ]
  },
  {
   "cell_type": "code",
   "execution_count": null,
   "metadata": {},
   "outputs": [],
   "source": []
  }
 ],
 "metadata": {
  "kernelspec": {
   "display_name": "torch",
   "language": "python",
   "name": "python3"
  },
  "language_info": {
   "codemirror_mode": {
    "name": "ipython",
    "version": 3
   },
   "file_extension": ".py",
   "mimetype": "text/x-python",
   "name": "python",
   "nbconvert_exporter": "python",
   "pygments_lexer": "ipython3",
   "version": "3.8.16"
  },
  "orig_nbformat": 4
 },
 "nbformat": 4,
 "nbformat_minor": 2
}
